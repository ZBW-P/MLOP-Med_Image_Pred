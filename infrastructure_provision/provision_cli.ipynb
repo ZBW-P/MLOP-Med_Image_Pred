{
 "cells": [
  {
   "cell_type": "markdown",
   "metadata": {},
   "source": [
    "## Provision resources using the `openstack` CLI"
   ]
  },
  {
   "cell_type": "code",
   "execution_count": 4,
   "metadata": {
    "tags": []
   },
   "outputs": [],
   "source": [
    "export OS_AUTH_URL=https://kvm.tacc.chameleoncloud.org:5000/v3\n",
    "export OS_PROJECT_NAME=\"CHI-251409\"\n",
    "export OS_REGION_NAME=\"KVM@TACC\""
   ]
  },
  {
   "cell_type": "code",
   "execution_count": null,
   "metadata": {
    "tags": []
   },
   "outputs": [],
   "source": [
    "openstack help"
   ]
  },
  {
   "cell_type": "code",
   "execution_count": null,
   "metadata": {
    "tags": []
   },
   "outputs": [],
   "source": [
    "openstack catalog list"
   ]
  },
  {
   "cell_type": "code",
   "execution_count": null,
   "metadata": {
    "tags": []
   },
   "outputs": [],
   "source": [
    "openstack network list"
   ]
  },
  {
   "cell_type": "code",
   "execution_count": null,
   "metadata": {
    "tags": []
   },
   "outputs": [],
   "source": [
    "openstack network list | grep jm11065"
   ]
  },
  {
   "cell_type": "code",
   "execution_count": null,
   "metadata": {
    "tags": []
   },
   "outputs": [],
   "source": [
    "openstack network list | grep netID"
   ]
  },
  {
   "cell_type": "code",
   "execution_count": 5,
   "metadata": {
    "tags": []
   },
   "outputs": [
    {
     "name": "stdout",
     "output_type": "stream",
     "text": [
      "+---------------------------+--------------------------------------+\n",
      "| Field                     | Value                                |\n",
      "+---------------------------+--------------------------------------+\n",
      "| admin_state_up            | UP                                   |\n",
      "| availability_zone_hints   |                                      |\n",
      "| availability_zones        | nova                                 |\n",
      "| created_at                | 2025-05-04T02:23:44Z                 |\n",
      "| description               |                                      |\n",
      "| dns_domain                | None                                 |\n",
      "| id                        | a5466b75-7828-483f-a9e9-51dc74344c81 |\n",
      "| ipv4_address_scope        | None                                 |\n",
      "| ipv6_address_scope        | None                                 |\n",
      "| is_default                | None                                 |\n",
      "| is_vlan_qinq              | None                                 |\n",
      "| is_vlan_transparent       | None                                 |\n",
      "| mtu                       | 1450                                 |\n",
      "| name                      | private-net-project42                |\n",
      "| port_security_enabled     | True                                 |\n",
      "| project_id                | 89f528973fea4b3a981f9b2344e522de     |\n",
      "| provider:network_type     | None                                 |\n",
      "| provider:physical_network | None                                 |\n",
      "| provider:segmentation_id  | None                                 |\n",
      "| qos_policy_id             | None                                 |\n",
      "| revision_number           | 2                                    |\n",
      "| router:external           | Internal                             |\n",
      "| segments                  | None                                 |\n",
      "| shared                    | False                                |\n",
      "| status                    | ACTIVE                               |\n",
      "| subnets                   | 3dbbd5b1-f1e9-4331-b6c1-c79b70016b5d |\n",
      "| tags                      |                                      |\n",
      "| updated_at                | 2025-05-04T02:23:44Z                 |\n",
      "+---------------------------+--------------------------------------+\n"
     ]
    }
   ],
   "source": [
    "openstack network show private-net-project42"
   ]
  },
  {
   "cell_type": "code",
   "execution_count": null,
   "metadata": {
    "tags": []
   },
   "outputs": [],
   "source": [
    "openstack network show sharednet1"
   ]
  },
  {
   "cell_type": "code",
   "execution_count": null,
   "metadata": {
    "tags": []
   },
   "outputs": [],
   "source": [
    "openstack subnet list | grep project42-1"
   ]
  },
  {
   "cell_type": "code",
   "execution_count": null,
   "metadata": {
    "tags": []
   },
   "outputs": [],
   "source": [
    "openstack subnet show private_subnet_mlops_project42-1 "
   ]
  },
  {
   "cell_type": "code",
   "execution_count": 8,
   "metadata": {
    "tags": []
   },
   "outputs": [
    {
     "name": "stdout",
     "output_type": "stream",
     "text": [
      "+-------------------------+----------------------------------------------------+\n",
      "| Field                   | Value                                              |\n",
      "+-------------------------+----------------------------------------------------+\n",
      "| admin_state_up          | UP                                                 |\n",
      "| allowed_address_pairs   |                                                    |\n",
      "| binding_host_id         | None                                               |\n",
      "| binding_profile         | None                                               |\n",
      "| binding_vif_details     | None                                               |\n",
      "| binding_vif_type        | None                                               |\n",
      "| binding_vnic_type       | normal                                             |\n",
      "| created_at              | 2025-05-04T02:54:15Z                               |\n",
      "| data_plane_status       | None                                               |\n",
      "| description             |                                                    |\n",
      "| device_id               |                                                    |\n",
      "| device_owner            |                                                    |\n",
      "| device_profile          | None                                               |\n",
      "| dns_assignment          | None                                               |\n",
      "| dns_domain              | None                                               |\n",
      "| dns_name                | None                                               |\n",
      "| extra_dhcp_opts         |                                                    |\n",
      "| fixed_ips               | ip_address='192.168.1.12',                         |\n",
      "|                         | subnet_id='3dbbd5b1-f1e9-4331-b6c1-c79b70016b5d'   |\n",
      "| hardware_offload_type   | None                                               |\n",
      "| hints                   |                                                    |\n",
      "| id                      | 2dfaaece-b744-4047-83f1-6f538888e0e3               |\n",
      "| ip_allocation           | None                                               |\n",
      "| mac_address             | fa:16:3e:eb:da:9e                                  |\n",
      "| name                    | node2-mlops-project42-1                            |\n",
      "| network_id              | a5466b75-7828-483f-a9e9-51dc74344c81               |\n",
      "| numa_affinity_policy    | None                                               |\n",
      "| port_security_enabled   | False                                              |\n",
      "| project_id              | 89f528973fea4b3a981f9b2344e522de                   |\n",
      "| propagate_uplink_status | None                                               |\n",
      "| resource_request        | None                                               |\n",
      "| revision_number         | 1                                                  |\n",
      "| qos_network_policy_id   | None                                               |\n",
      "| qos_policy_id           | None                                               |\n",
      "| security_group_ids      |                                                    |\n",
      "| status                  | DOWN                                               |\n",
      "| tags                    |                                                    |\n",
      "| trunk_details           | None                                               |\n",
      "| trusted                 | None                                               |\n",
      "| updated_at              | 2025-05-04T02:54:15Z                               |\n",
      "+-------------------------+----------------------------------------------------+\n"
     ]
    }
   ],
   "source": [
    "openstack port create \\\n",
    "    --network private-net-project42 \\\n",
    "     --fixed-ip subnet=private_subnet_project42,ip-address=192.168.1.12 \\\n",
    "     --disable-port-security \\\n",
    "     node2-mlops-project42-1"
   ]
  },
  {
   "cell_type": "code",
   "execution_count": 13,
   "metadata": {
    "tags": []
   },
   "outputs": [
    {
     "name": "stdout",
     "output_type": "stream",
     "text": [
      "+-------------------------+----------------------------------------------------+\n",
      "| Field                   | Value                                              |\n",
      "+-------------------------+----------------------------------------------------+\n",
      "| admin_state_up          | UP                                                 |\n",
      "| allowed_address_pairs   |                                                    |\n",
      "| binding_host_id         | None                                               |\n",
      "| binding_profile         | None                                               |\n",
      "| binding_vif_details     | None                                               |\n",
      "| binding_vif_type        | None                                               |\n",
      "| binding_vnic_type       | normal                                             |\n",
      "| created_at              | 2025-05-04T02:58:03Z                               |\n",
      "| data_plane_status       | None                                               |\n",
      "| description             |                                                    |\n",
      "| device_id               |                                                    |\n",
      "| device_owner            |                                                    |\n",
      "| device_profile          | None                                               |\n",
      "| dns_assignment          | None                                               |\n",
      "| dns_domain              | None                                               |\n",
      "| dns_name                | None                                               |\n",
      "| extra_dhcp_opts         |                                                    |\n",
      "| fixed_ips               | ip_address='192.168.1.13',                         |\n",
      "|                         | subnet_id='3dbbd5b1-f1e9-4331-b6c1-c79b70016b5d'   |\n",
      "| hardware_offload_type   | None                                               |\n",
      "| hints                   |                                                    |\n",
      "| id                      | 842e91c0-1718-4b16-aa0b-61c90d997066               |\n",
      "| ip_allocation           | None                                               |\n",
      "| mac_address             | fa:16:3e:67:16:1a                                  |\n",
      "| name                    | node3-mlops-project42-1                            |\n",
      "| network_id              | a5466b75-7828-483f-a9e9-51dc74344c81               |\n",
      "| numa_affinity_policy    | None                                               |\n",
      "| port_security_enabled   | False                                              |\n",
      "| project_id              | 89f528973fea4b3a981f9b2344e522de                   |\n",
      "| propagate_uplink_status | None                                               |\n",
      "| resource_request        | None                                               |\n",
      "| revision_number         | 1                                                  |\n",
      "| qos_network_policy_id   | None                                               |\n",
      "| qos_policy_id           | None                                               |\n",
      "| security_group_ids      |                                                    |\n",
      "| status                  | DOWN                                               |\n",
      "| tags                    |                                                    |\n",
      "| trunk_details           | None                                               |\n",
      "| trusted                 | None                                               |\n",
      "| updated_at              | 2025-05-04T02:58:03Z                               |\n",
      "+-------------------------+----------------------------------------------------+\n"
     ]
    }
   ],
   "source": [
    "openstack port create \\\n",
    "    --network private-net-project42 \\\n",
    "    --fixed-ip subnet=private_subnet_project42,ip-address=192.168.1.13 \\\n",
    "    --disable-port-security \\\n",
    "    node3-mlops-project42-1"
   ]
  },
  {
   "cell_type": "code",
   "execution_count": 14,
   "metadata": {
    "tags": []
   },
   "outputs": [
    {
     "name": "stdout",
     "output_type": "stream",
     "text": [
      "+----------------+----------------+----------------+--------------------+--------+\n",
      "| ID             | Name           | MAC Address    | Fixed IP Addresses | Status |\n",
      "+----------------+----------------+----------------+--------------------+--------+\n",
      "| 2dfaaece-b744- | node2-mlops-   | fa:16:3e:eb:da | ip_address='192.16 | DOWN   |\n",
      "| 4047-83f1-     | project42-1    | :9e            | 8.1.12', subnet_id |        |\n",
      "| 6f538888e0e3   |                |                | ='3dbbd5b1-f1e9-   |        |\n",
      "|                |                |                | 4331-b6c1-         |        |\n",
      "|                |                |                | c79b70016b5d'      |        |\n",
      "| 842e91c0-1718- | node3-mlops-   | fa:16:3e:67:16 | ip_address='192.16 | DOWN   |\n",
      "| 4b16-aa0b-     | project42-1    | :1a            | 8.1.13', subnet_id |        |\n",
      "| 61c90d997066   |                |                | ='3dbbd5b1-f1e9-   |        |\n",
      "|                |                |                | 4331-b6c1-         |        |\n",
      "|                |                |                | c79b70016b5d'      |        |\n",
      "| ba26bc48-96cc- | node1-mlops-   | fa:16:3e:0e:17 | ip_address='192.16 | ACTIVE |\n",
      "| 4dcb-9ab5-     | project42-1    | :3e            | 8.1.11', subnet_id |        |\n",
      "| 2a9556e5b22b   |                |                | ='3dbbd5b1-f1e9-   |        |\n",
      "|                |                |                | 4331-b6c1-         |        |\n",
      "|                |                |                | c79b70016b5d'      |        |\n",
      "| e1b5042d-7099- |                | fa:16:3e:29:00 | ip_address='192.16 | ACTIVE |\n",
      "| 44c9-b614-     |                | :06            | 8.1.1', subnet_id= |        |\n",
      "| 4ee9b6918566   |                |                | '3dbbd5b1-f1e9-    |        |\n",
      "|                |                |                | 4331-b6c1-         |        |\n",
      "|                |                |                | c79b70016b5d'      |        |\n",
      "+----------------+----------------+----------------+--------------------+--------+\n"
     ]
    }
   ],
   "source": [
    "openstack port list --network private-net-project42"
   ]
  },
  {
   "cell_type": "code",
   "execution_count": null,
   "metadata": {
    "tags": []
   },
   "outputs": [],
   "source": [
    "openstack server list --name \"project42-1\""
   ]
  },
  {
   "cell_type": "code",
   "execution_count": null,
   "metadata": {
    "tags": []
   },
   "outputs": [],
   "source": [
    "# there are MANY images available, so we'll just list a few\n",
    "openstack image list --limit 5"
   ]
  },
  {
   "cell_type": "code",
   "execution_count": null,
   "metadata": {
    "tags": []
   },
   "outputs": [],
   "source": [
    "openstack flavor list"
   ]
  },
  {
   "cell_type": "code",
   "execution_count": null,
   "metadata": {
    "tags": []
   },
   "outputs": [],
   "source": [
    "openstack keypair list"
   ]
  },
  {
   "cell_type": "code",
   "execution_count": null,
   "metadata": {
    "tags": []
   },
   "outputs": [],
   "source": [
    "openstack port list --fixed-ip ip-address=192.168.1.12\n",
    "openstack port list --fixed-ip ip-address=192.168.1.13"
   ]
  },
  {
   "cell_type": "code",
   "execution_count": 16,
   "metadata": {
    "tags": []
   },
   "outputs": [
    {
     "name": "stdout",
     "output_type": "stream",
     "text": [
      "+-------------------------------------+----------------------------------------+\n",
      "| Field                               | Value                                  |\n",
      "+-------------------------------------+----------------------------------------+\n",
      "| OS-DCF:diskConfig                   | MANUAL                                 |\n",
      "| OS-EXT-AZ:availability_zone         | None                                   |\n",
      "| OS-EXT-SRV-ATTR:host                | None                                   |\n",
      "| OS-EXT-SRV-ATTR:hostname            | None                                   |\n",
      "| OS-EXT-SRV-ATTR:hypervisor_hostname | None                                   |\n",
      "| OS-EXT-SRV-ATTR:instance_name       | None                                   |\n",
      "| OS-EXT-SRV-ATTR:kernel_id           | None                                   |\n",
      "| OS-EXT-SRV-ATTR:launch_index        | None                                   |\n",
      "| OS-EXT-SRV-ATTR:ramdisk_id          | None                                   |\n",
      "| OS-EXT-SRV-ATTR:reservation_id      | None                                   |\n",
      "| OS-EXT-SRV-ATTR:root_device_name    | None                                   |\n",
      "| OS-EXT-SRV-ATTR:user_data           | I2Nsb3VkLWNvbmZpZwpydW5jbWQ6CiAgLSBlY2 |\n",
      "|                                     | hvICIxMjcuMC4xLjEgJChob3N0bmFtZSkiID4+ |\n",
      "|                                     | IC9ldGMvaG9zdHMKICAtIHN1IGNjIC1jIC91c3 |\n",
      "|                                     | IvbG9jYWwvYmluL2NjLWxvYWQtcHVibGljLWtl |\n",
      "|                                     | eXMK                                   |\n",
      "| OS-EXT-STS:power_state              | N/A                                    |\n",
      "| OS-EXT-STS:task_state               | scheduling                             |\n",
      "| OS-EXT-STS:vm_state                 | building                               |\n",
      "| OS-SRV-USG:launched_at              | None                                   |\n",
      "| OS-SRV-USG:terminated_at            | None                                   |\n",
      "| accessIPv4                          | None                                   |\n",
      "| accessIPv6                          | None                                   |\n",
      "| addresses                           | N/A                                    |\n",
      "| adminPass                           | QJ7ZrHBqJHjS                           |\n",
      "| config_drive                        | None                                   |\n",
      "| created                             | 2025-05-04T03:02:19Z                   |\n",
      "| description                         | None                                   |\n",
      "| flavor                              | description=, disk='40',               |\n",
      "|                                     | ephemeral='0', , id='m1.xlarge',       |\n",
      "|                                     | is_disabled=, is_public='True',        |\n",
      "|                                     | location=, name='m1.xlarge',           |\n",
      "|                                     | original_name='m1.xlarge',             |\n",
      "|                                     | ram='16384', rxtx_factor=, swap='0',   |\n",
      "|                                     | vcpus='8'                              |\n",
      "| hostId                              | None                                   |\n",
      "| host_status                         | None                                   |\n",
      "| id                                  | 3defc4a0-9c8c-4eff-a22c-d3db642f7c48   |\n",
      "| image                               | CC-Ubuntu24.04                         |\n",
      "|                                     | (96d9c658-6540-4796-ae64-54d8ac6c45f8) |\n",
      "| key_name                            | project42                              |\n",
      "| locked                              | None                                   |\n",
      "| locked_reason                       | None                                   |\n",
      "| name                                | node2-mlops-project42-1                |\n",
      "| pinned_availability_zone            | None                                   |\n",
      "| progress                            | None                                   |\n",
      "| project_id                          | 89f528973fea4b3a981f9b2344e522de       |\n",
      "| properties                          | None                                   |\n",
      "| security_groups                     | name='833aa0fa-62f6-4eac-8ddf-         |\n",
      "|                                     | 510bb3441da3'                          |\n",
      "|                                     | name='47860acf-9269-4d26-84b1-         |\n",
      "|                                     | 363824f7e0a2'                          |\n",
      "|                                     | name='5df2db36-79f9-4b9b-b6c9-         |\n",
      "|                                     | 1ece762d83fb'                          |\n",
      "| server_groups                       | None                                   |\n",
      "| status                              | BUILD                                  |\n",
      "| tags                                |                                        |\n",
      "| trusted_image_certificates          | None                                   |\n",
      "| updated                             | 2025-05-04T03:02:19Z                   |\n",
      "| user_id                             | f7aec218002617a11e8e21ff0ec3fe24c34a92 |\n",
      "|                                     | 4443364a5d1c089c3048160669             |\n",
      "| volumes_attached                    |                                        |\n",
      "+-------------------------------------+----------------------------------------+\n"
     ]
    }
   ],
   "source": [
    "openstack server create \\\n",
    "  --image \"CC-Ubuntu24.04\" \\\n",
    "  --flavor m1.xlarge \\\n",
    "  --network sharednet1 \\\n",
    "  --port node2-mlops-project42-1 \\\n",
    "  --security-group default \\\n",
    "  --security-group allow-ssh \\\n",
    "  --security-group allow-http-80 \\\n",
    "  --key-name project42 \\\n",
    "  --user-data config-hosts.yaml \\\n",
    "  node2-mlops-project42-1"
   ]
  },
  {
   "cell_type": "code",
   "execution_count": 17,
   "metadata": {
    "tags": []
   },
   "outputs": [
    {
     "name": "stdout",
     "output_type": "stream",
     "text": [
      "+-------------------------------------+----------------------------------------+\n",
      "| Field                               | Value                                  |\n",
      "+-------------------------------------+----------------------------------------+\n",
      "| OS-DCF:diskConfig                   | MANUAL                                 |\n",
      "| OS-EXT-AZ:availability_zone         | None                                   |\n",
      "| OS-EXT-SRV-ATTR:host                | None                                   |\n",
      "| OS-EXT-SRV-ATTR:hostname            | None                                   |\n",
      "| OS-EXT-SRV-ATTR:hypervisor_hostname | None                                   |\n",
      "| OS-EXT-SRV-ATTR:instance_name       | None                                   |\n",
      "| OS-EXT-SRV-ATTR:kernel_id           | None                                   |\n",
      "| OS-EXT-SRV-ATTR:launch_index        | None                                   |\n",
      "| OS-EXT-SRV-ATTR:ramdisk_id          | None                                   |\n",
      "| OS-EXT-SRV-ATTR:reservation_id      | None                                   |\n",
      "| OS-EXT-SRV-ATTR:root_device_name    | None                                   |\n",
      "| OS-EXT-SRV-ATTR:user_data           | I2Nsb3VkLWNvbmZpZwpydW5jbWQ6CiAgLSBlY2 |\n",
      "|                                     | hvICIxMjcuMC4xLjEgJChob3N0bmFtZSkiID4+ |\n",
      "|                                     | IC9ldGMvaG9zdHMKICAtIHN1IGNjIC1jIC91c3 |\n",
      "|                                     | IvbG9jYWwvYmluL2NjLWxvYWQtcHVibGljLWtl |\n",
      "|                                     | eXMK                                   |\n",
      "| OS-EXT-STS:power_state              | N/A                                    |\n",
      "| OS-EXT-STS:task_state               | scheduling                             |\n",
      "| OS-EXT-STS:vm_state                 | building                               |\n",
      "| OS-SRV-USG:launched_at              | None                                   |\n",
      "| OS-SRV-USG:terminated_at            | None                                   |\n",
      "| accessIPv4                          | None                                   |\n",
      "| accessIPv6                          | None                                   |\n",
      "| addresses                           | N/A                                    |\n",
      "| adminPass                           | zk7gY4MJDAa2                           |\n",
      "| config_drive                        | None                                   |\n",
      "| created                             | 2025-05-04T03:02:27Z                   |\n",
      "| description                         | None                                   |\n",
      "| flavor                              | description=, disk='40',               |\n",
      "|                                     | ephemeral='0', , id='m1.xlarge',       |\n",
      "|                                     | is_disabled=, is_public='True',        |\n",
      "|                                     | location=, name='m1.xlarge',           |\n",
      "|                                     | original_name='m1.xlarge',             |\n",
      "|                                     | ram='16384', rxtx_factor=, swap='0',   |\n",
      "|                                     | vcpus='8'                              |\n",
      "| hostId                              | None                                   |\n",
      "| host_status                         | None                                   |\n",
      "| id                                  | e2320c8a-570e-441b-b9fa-57f0ee569df9   |\n",
      "| image                               | CC-Ubuntu24.04                         |\n",
      "|                                     | (96d9c658-6540-4796-ae64-54d8ac6c45f8) |\n",
      "| key_name                            | project42                              |\n",
      "| locked                              | None                                   |\n",
      "| locked_reason                       | None                                   |\n",
      "| name                                | node3-mlops-project42-1                |\n",
      "| pinned_availability_zone            | None                                   |\n",
      "| progress                            | None                                   |\n",
      "| project_id                          | 89f528973fea4b3a981f9b2344e522de       |\n",
      "| properties                          | None                                   |\n",
      "| security_groups                     | name='833aa0fa-62f6-4eac-8ddf-         |\n",
      "|                                     | 510bb3441da3'                          |\n",
      "|                                     | name='47860acf-9269-4d26-84b1-         |\n",
      "|                                     | 363824f7e0a2'                          |\n",
      "|                                     | name='5df2db36-79f9-4b9b-b6c9-         |\n",
      "|                                     | 1ece762d83fb'                          |\n",
      "| server_groups                       | None                                   |\n",
      "| status                              | BUILD                                  |\n",
      "| tags                                |                                        |\n",
      "| trusted_image_certificates          | None                                   |\n",
      "| updated                             | 2025-05-04T03:02:27Z                   |\n",
      "| user_id                             | f7aec218002617a11e8e21ff0ec3fe24c34a92 |\n",
      "|                                     | 4443364a5d1c089c3048160669             |\n",
      "| volumes_attached                    |                                        |\n",
      "+-------------------------------------+----------------------------------------+\n"
     ]
    }
   ],
   "source": [
    "openstack server create \\\n",
    "  --image \"CC-Ubuntu24.04\" \\\n",
    "  --flavor m1.xlarge \\\n",
    "  --network sharednet1 \\\n",
    "  --port node3-mlops-project42-1 \\\n",
    "  --security-group default \\\n",
    "  --security-group allow-ssh \\\n",
    "  --security-group allow-http-80 \\\n",
    "  --key-name project42 \\\n",
    "  --user-data config-hosts.yaml \\\n",
    "  node3-mlops-project42-1"
   ]
  },
  {
   "cell_type": "code",
   "execution_count": 18,
   "metadata": {
    "tags": []
   },
   "outputs": [
    {
     "name": "stdout",
     "output_type": "stream",
     "text": [
      "+-------------+-------------+--------+-------------+---------------+-----------+\n",
      "| ID          | Name        | Status | Networks    | Image         | Flavor    |\n",
      "+-------------+-------------+--------+-------------+---------------+-----------+\n",
      "| e2320c8a-   | node3-      | ACTIVE | private-    | CC-           | m1.xlarge |\n",
      "| 570e-441b-  | mlops-      |        | net-project | Ubuntu24.04   |           |\n",
      "| b9fa-       | project42-1 |        | 42=192.168. |               |           |\n",
      "| 57f0ee569df |             |        | 1.13; share |               |           |\n",
      "| 9           |             |        | dnet1=10.56 |               |           |\n",
      "|             |             |        | .2.91       |               |           |\n",
      "| 3defc4a0-   | node2-      | ACTIVE | private-    | CC-           | m1.xlarge |\n",
      "| 9c8c-4eff-  | mlops-      |        | net-project | Ubuntu24.04   |           |\n",
      "| a22c-       | project42-1 |        | 42=192.168. |               |           |\n",
      "| d3db642f7c4 |             |        | 1.12; share |               |           |\n",
      "| 8           |             |        | dnet1=10.56 |               |           |\n",
      "|             |             |        | .3.147      |               |           |\n",
      "| 80a1cbe3-   | node1-      | ACTIVE | private-    | CC-           | m1.xlarge |\n",
      "| 6f5d-4673-  | mlops-      |        | net-project | Ubuntu24.04   |           |\n",
      "| a175-       | project42-1 |        | 42=192.168. |               |           |\n",
      "| 9e617305435 |             |        | 1.11; share |               |           |\n",
      "| d           |             |        | dnet1=10.56 |               |           |\n",
      "|             |             |        | .0.217, 129 |               |           |\n",
      "|             |             |        | .114.27.23  |               |           |\n",
      "+-------------+-------------+--------+-------------+---------------+-----------+\n"
     ]
    }
   ],
   "source": [
    "openstack server list --name \"project42-1\""
   ]
  }
 ],
 "metadata": {
  "kernelspec": {
   "display_name": "Bash",
   "language": "bash",
   "name": "bash"
  },
  "language_info": {
   "codemirror_mode": "shell",
   "file_extension": ".sh",
   "mimetype": "text/x-sh",
   "name": "bash"
  }
 },
 "nbformat": 4,
 "nbformat_minor": 4
}
